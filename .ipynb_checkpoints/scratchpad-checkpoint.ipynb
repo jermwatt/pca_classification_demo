{
 "cells": [
  {
   "cell_type": "code",
   "execution_count": 1,
   "metadata": {},
   "outputs": [],
   "source": [
    "# imports from custom library\n",
    "import sys\n",
    "import matplotlib.pyplot as plt\n",
    "import numpy as np\n",
    "from scipy.stats import ortho_group  # Requires version 0.18 of scipy\n",
    "\n",
    "import matplotlib.pyplot as plt\n",
    "from matplotlib import gridspec\n",
    "\n",
    "# This is needed to compensate for matplotlib notebook's tendancy to blow up images when plotted inline\n",
    "%matplotlib notebook\n",
    "from matplotlib import rcParams\n",
    "rcParams['figure.autolayout'] = True\n",
    "\n",
    "%load_ext autoreload\n",
    "%autoreload 2"
   ]
  },
  {
   "cell_type": "markdown",
   "metadata": {},
   "source": [
    "# PCA code blocks"
   ]
  },
  {
   "cell_type": "code",
   "execution_count": 96,
   "metadata": {},
   "outputs": [],
   "source": [
    "def center(X):\n",
    "    '''\n",
    "    A function for normalizing each feaure dimension of an input array, mean-centering\n",
    "    \n",
    "    '''\n",
    "    X_means = np.mean(X,axis=1)[:,np.newaxis]\n",
    "    X_normalized = X - X_means\n",
    "\n",
    "    return X_normalized\n",
    "\n",
    "def compute_pcs(X,lam):\n",
    "    '''\n",
    "    A function for computing the principal components of an input data matrix.  Both\n",
    "    principal components and variance parameters (eigenvectors and eigenvalues of XX^T)\n",
    "    are returned\n",
    "    '''\n",
    "    # create the correlation matrix\n",
    "    P = float(X.shape[1])\n",
    "    Cov = 1/P*np.dot(X,X.T) + lam*np.eye(X.shape[0])\n",
    "\n",
    "    # use numpy function to compute eigenvalues / vectors of correlation matrix\n",
    "    D,V = np.linalg.eigh(Cov)\n",
    "    return D,V\n",
    "\n",
    "def pca_transform_data(X,**kwargs):\n",
    "    '''\n",
    "    A function for producing the full PCA transformation on an input dataset X.  \n",
    "    '''\n",
    "    # user-determined number of principal components to keep, and regularizer penalty param\n",
    "    num_components = X.shape[0]\n",
    "    if 'num_components' in kwargs:\n",
    "        num_components = kwargs['num_components']\n",
    "    lam = 10**(-7)\n",
    "    if 'lam' in kwargs:\n",
    "        lam = kwargs['lam']\n",
    "    \n",
    "    # compute principal components\n",
    "    D,V = compute_pcs(X,lam)\n",
    "    V = np.fliplr(V[:,-num_components:])\n",
    "    D = np.fliplr(D[-num_components:][np.newaxis,:])\n",
    "\n",
    "    # compute transformed data for PC space: V^T X\n",
    "    W = np.dot(V.T,X)\n",
    "    return W,V"
   ]
  },
  {
   "cell_type": "code",
   "execution_count": 97,
   "metadata": {},
   "outputs": [],
   "source": [
    "x_pca,pcs = pca_transform_data(x_center,num_components=2)\n"
   ]
  },
  {
   "cell_type": "markdown",
   "metadata": {},
   "source": [
    "# Static plotters"
   ]
  },
  {
   "cell_type": "code",
   "execution_count": 52,
   "metadata": {},
   "outputs": [],
   "source": [
    "# import standard plotting and animation\n",
    "import matplotlib.pyplot as plt\n",
    "import matplotlib.animation as animation\n",
    "from matplotlib import gridspec\n",
    "from IPython.display import clear_output\n",
    "from matplotlib.text import Annotation\n",
    "import time\n",
    "\n",
    "\n",
    "def static_plotter(x,y):\n",
    "    # define all colors\n",
    "    colors = ['cornflowerblue','salmon','lime','bisque','mediumaquamarine','b','m','g']\n",
    "\n",
    "    ### generate base figure ###\n",
    "    fig = plt.figure(figsize=(9,5))\n",
    "\n",
    "    # create subplot with 2 panels\n",
    "    gs = gridspec.GridSpec(1, 3, width_ratios=[1,10,1]) \n",
    "    ax1 = plt.subplot(gs[0]); ax1.axis('off') \n",
    "    ax = plt.subplot(gs[1]); ax.axis('off') \n",
    "    ax3 = plt.subplot(gs[2]); ax3.axis('off')\n",
    "\n",
    "    ### scatter points ###\n",
    "    # scatter points in both panels\n",
    "    y=y.astype(int)\n",
    "    class_nums = np.unique(y)\n",
    "    C = len(class_nums)\n",
    "    for c in range(C):\n",
    "        ind = np.argwhere(y == class_nums[c])\n",
    "        ind = [v[1] for v in ind]\n",
    "        ax.scatter(x[0,ind],x[1,ind],s = 80,color = colors[c],edgecolor = 'k',linewidth = 1.5)\n",
    "    plt.show()"
   ]
  },
  {
   "cell_type": "markdown",
   "metadata": {},
   "source": [
    "# Import and display data"
   ]
  },
  {
   "cell_type": "code",
   "execution_count": 144,
   "metadata": {},
   "outputs": [],
   "source": [
    "data = np.loadtxt('test_data.csv',delimiter=',')\n",
    "x = data[:2,:]\n",
    "y = data[-1:,:]"
   ]
  },
  {
   "cell_type": "code",
   "execution_count": 189,
   "metadata": {},
   "outputs": [],
   "source": [
    "# mean-center input\n",
    "x_center = center(x)\n",
    "\n",
    "# pca transform centered data\n",
    "x_pca,pcs = pca_transform_data(x_center,num_components=2)\n",
    "\n",
    "# project onto first pc\n",
    "first_pc = pcs[:,0:1]\n",
    "new_pcs = np.hstack((first_pc,np.zeros((2,1))))\n",
    "\n",
    "# rotate projection back into 2-d based on both original pcs\n",
    "x_test = np.dot(pcs,np.dot(new_pcs.T,x_center))"
   ]
  },
  {
   "cell_type": "markdown",
   "metadata": {},
   "source": [
    "# Animate transitions"
   ]
  },
  {
   "cell_type": "code",
   "execution_count": 222,
   "metadata": {},
   "outputs": [],
   "source": [
    "# import standard plotting and animation\n",
    "import matplotlib.pyplot as plt\n",
    "import matplotlib.animation as animation\n",
    "from matplotlib import gridspec\n",
    "from IPython.display import clear_output\n",
    "from matplotlib.text import Annotation\n",
    "import time\n",
    "\n",
    "class Animator:\n",
    "    def __init__(self):\n",
    "        self.colors = ['cornflowerblue','salmon','lime','bisque','mediumaquamarine','b','m','g']\n",
    "        \n",
    "        \n",
    "    def init_figure(self):\n",
    "        ### generate base figure ###\n",
    "        fig = plt.figure(figsize=(15,5))\n",
    "\n",
    "        # create subplot with 2 panels\n",
    "        gs = gridspec.GridSpec(1, 3, width_ratios=[1,1,1]) \n",
    "        ax1 = plt.subplot(gs[0]); ax1.axis('off') \n",
    "        ax = plt.subplot(gs[1]); ax.axis('off')\n",
    "        ax3 = plt.subplot(gs[2]); ax3.axis('off')\n",
    "        \n",
    "        \n",
    "#         ### generate base figure ###\n",
    "#         fig = plt.figure(figsize=(5,5))\n",
    "\n",
    "#         # create subplot with 2 panels\n",
    "#         gs = gridspec.GridSpec(1, 1) \n",
    "#         ax = plt.subplot(gs[0]); ax.axis('off')\n",
    "        \n",
    "        return fig,ax\n",
    "        \n",
    "    def static_plotter(self,ax,x,y):\n",
    "        ### scatter points ###\n",
    "        # scatter points in both panels\n",
    "        y=y.astype(int)\n",
    "        class_nums = np.unique(y)\n",
    "        C = len(class_nums)\n",
    "        for c in range(C):\n",
    "            ind = np.argwhere(y == class_nums[c])\n",
    "            ind = [v[1] for v in ind]\n",
    "            ax.scatter(x[0,ind],x[1,ind],s = 80,color = self.colors[c],edgecolor = 'k',linewidth = 1.5,zorder=2)\n",
    "            \n",
    "    def add_linear_guidelines(self,ax,x3,x2):\n",
    "        # loop over points and add visual guidelines\n",
    "        for p in range(x2.shape[1]):\n",
    "            x3_p = x3[:,p]\n",
    "            x2_p = x2[:,p]\n",
    "            ax.plot([x3_p[0],x2_p[0]],[x3_p[1],x2_p[1]],c='k',linestyle='--',alpha=0.9,zorder=0)\n",
    "        \n",
    "    def add_pc_plane(self,ax,t1,t2):\n",
    "        ax.plot(t1,t2,c='k',zorder=0)\n",
    "    \n",
    "    def animate_transition(self,savepath,x1,x2,y,pc,**kwargs):\n",
    "        # set number of frames to video\n",
    "        orig_num = 5\n",
    "        if 'orig_num' in kwargs:\n",
    "            orig_num = kwargs['orig_num']     \n",
    "        pc_num = 5\n",
    "        if 'pc_num' in kwargs:\n",
    "            pc_num = kwargs['pc_num']    \n",
    "        pause_num = 5\n",
    "        if 'pause_num' in kwargs:\n",
    "            pause_num = kwargs['pause_num']           \n",
    "        trans_num = 5\n",
    "        if 'trans_num' in kwargs:\n",
    "            trans_num = kwargs['trans_num']            \n",
    "            \n",
    "            \n",
    "        # compute lambda transition points\n",
    "        lams = list(np.linspace(1,0,trans_num))\n",
    "        \n",
    "        # compute pc plane\n",
    "        s = np.linspace(-2,2,pc_num)\n",
    "        pcn = pc/(pc[0]**2 + pc[1]**2)**(0.5)\n",
    "        t1 = pcn[0]*s\n",
    "        t2 = pcn[1]*s\n",
    "            \n",
    "        # initiate figure\n",
    "        fig,ax = self.init_figure()\n",
    "        artist = fig\n",
    "        \n",
    "        # animate\n",
    "        num_frames = orig_num + pc_nun + pause_num + trans_num\n",
    "        print ('starting animation rendering...')\n",
    "        def animate(t):\n",
    "            ax.cla()\n",
    "            ax.axis('off')\n",
    "            \n",
    "            # print rendering update            \n",
    "            if np.mod(t+1,25) == 0:\n",
    "                print ('rendering animation frame ' + str(t+1) + ' of ' + str(num_frames))\n",
    "            if t == num_frames - 1:\n",
    "                print ('animation rendering complete!')\n",
    "                time.sleep(1.5)\n",
    "                clear_output()\n",
    "                \n",
    "            # show original dataset for several frames\n",
    "            print(t)\n",
    "            if t < orig_num + pc_num + pause_num:\n",
    "                # plot orig data\n",
    "                self.static_plotter(ax,x1,y)\n",
    "                \n",
    "                # transition pc plane into frame\n",
    "                if t > orig_num and t < orig_num + pc_num:\n",
    "                    self.add_pc_plane(ax,t1[:t],t2[:t])\n",
    "                else:\n",
    "                    self.add_pc_plane(ax,t1,t2)\n",
    "            else:\n",
    "                # create current transition\n",
    "                lam = lams[0]; lams.pop(0)\n",
    "                x3 = lam*x1 + (1-lam)*x2\n",
    "                self.static_plotter(ax,x3,y)\n",
    "                self.add_linear_guidelines(ax,x3,x2)\n",
    "                self.add_pc_plane(ax,t1,t2)\n",
    "\n",
    "            # fix viewing limits\n",
    "            ax.set_xlim([-2,2])\n",
    "            ax.set_ylim([-2,2])\n",
    "            return artist,\n",
    "\n",
    "        anim = animation.FuncAnimation(fig, animate ,frames=num_frames, interval=num_frames, blit=True)\n",
    "\n",
    "        # produce animation and save\n",
    "        fps = 50\n",
    "        if 'fps' in kwargs:\n",
    "            fps = kwargs['fps']\n",
    "        anim.save(savepath, fps=fps, extra_args=['-vcodec', 'libx264'])\n",
    "        \n",
    "        clear_output()          "
   ]
  },
  {
   "cell_type": "code",
   "execution_count": 223,
   "metadata": {},
   "outputs": [
    {
     "name": "stderr",
     "output_type": "stream",
     "text": [
      "/Users/Nurgetson/anaconda3/lib/python3.7/site-packages/matplotlib/figure.py:2299: UserWarning: This figure includes Axes that are not compatible with tight_layout, so results might be incorrect.\n",
      "  warnings.warn(\"This figure includes Axes that are not compatible \"\n"
     ]
    },
    {
     "data": {
      "image/png": "[encoded data removed]",
      "text/plain": [
       "<Figure size 1080x360 with 3 Axes>"
      ]
     },
     "metadata": {
      "needs_background": "light"
     },
     "output_type": "display_data"
    }
   ],
   "source": [
    "demo = Animator()\n",
    "savepath = 'test_animation.mp4'\n",
    "demo.animate_transition(savepath,x_center,x_test,y,first_pc,fps=2,orig_num=5,pc_num=5,pause_num = 5,trans_num=5)"
   ]
  },
  {
   "cell_type": "code",
   "execution_count": null,
   "metadata": {},
   "outputs": [],
   "source": []
  }
 ],
 "metadata": {
  "kernelspec": {
   "display_name": "Python 3",
   "language": "python",
   "name": "python3"
  },
  "language_info": {
   "codemirror_mode": {
    "name": "ipython",
    "version": 3
   },
   "file_extension": ".py",
   "mimetype": "text/x-python",
   "name": "python",
   "nbconvert_exporter": "python",
   "pygments_lexer": "ipython3",
   "version": "3.7.1"
  }
 },
 "nbformat": 4,
 "nbformat_minor": 2
}
